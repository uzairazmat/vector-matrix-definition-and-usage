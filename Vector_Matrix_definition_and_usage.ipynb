{
  "nbformat": 4,
  "nbformat_minor": 0,
  "metadata": {
    "colab": {
      "provenance": [],
      "authorship_tag": "ABX9TyNADx/OQciVUFeR7SeIC4Eg",
      "include_colab_link": true
    },
    "kernelspec": {
      "name": "python3",
      "display_name": "Python 3"
    },
    "language_info": {
      "name": "python"
    }
  },
  "cells": [
    {
      "cell_type": "markdown",
      "metadata": {
        "id": "view-in-github",
        "colab_type": "text"
      },
      "source": [
        "<a href=\"https://colab.research.google.com/github/uzairazmat/vector-matrix-definition-and-usage/blob/main/Vector_Matrix_definition_and_usage.ipynb\" target=\"_parent\"><img src=\"https://colab.research.google.com/assets/colab-badge.svg\" alt=\"Open In Colab\"/></a>"
      ]
    },
    {
      "cell_type": "code",
      "execution_count": 56,
      "metadata": {
        "id": "E-eXdIo6NPTX"
      },
      "outputs": [],
      "source": [
        "class Vectors():\n",
        "  def __init__(self, x=0 ,y=0):\n",
        "    self.x = x\n",
        "    self.y = y\n",
        "  def __str__ (self):\n",
        "    return \"[\" + str(self.x) +\",\"+ str(self.y)+ \"]\"\n",
        "\n",
        "  def add(self,v):\n",
        "    vt = Vectors(self.x + v.x , self.y+v.y)\n",
        "    return vt\n",
        "\n",
        "  def mul(self, v):\n",
        "    vt = Vectors(self.x*v.x , self.y*v.y)\n",
        "    return vt\n",
        "\n",
        "\n",
        "  def mul(self, v):\n",
        "    vt = Vectors(self.x*v.x , self.y*v.y)\n",
        "    return vt\n",
        "\n",
        "\n",
        "  def sub(self, v):\n",
        "    vt = Vectors(self.x-v.x , self.y-v.y)\n",
        "    return vt\n",
        "\n",
        "  # dot product\n",
        "  def dot(self, v):\n",
        "    ans = (self.x * v.x) + (self.y * v.y)\n",
        "    return ans"
      ]
    },
    {
      "cell_type": "code",
      "source": [
        "v1 = Vectors(5,9)"
      ],
      "metadata": {
        "id": "OdYDgrHPOIW4"
      },
      "execution_count": 57,
      "outputs": []
    },
    {
      "cell_type": "code",
      "source": [
        "print(v1)"
      ],
      "metadata": {
        "colab": {
          "base_uri": "https://localhost:8080/"
        },
        "id": "6BjH2T7BOSuu",
        "outputId": "d54ecb54-4bd7-4030-843d-624c115a53df"
      },
      "execution_count": 58,
      "outputs": [
        {
          "output_type": "stream",
          "name": "stdout",
          "text": [
            "[5,9]\n"
          ]
        }
      ]
    },
    {
      "cell_type": "code",
      "source": [
        "v2 = Vectors(2,6)"
      ],
      "metadata": {
        "id": "z4uI6aw9OVfu"
      },
      "execution_count": 59,
      "outputs": []
    },
    {
      "cell_type": "code",
      "source": [
        "\n",
        "v = v1.add(v2)"
      ],
      "metadata": {
        "id": "Sr6C-WAOPdwO"
      },
      "execution_count": 60,
      "outputs": []
    },
    {
      "cell_type": "code",
      "source": [
        "print(v)"
      ],
      "metadata": {
        "colab": {
          "base_uri": "https://localhost:8080/"
        },
        "id": "A9qpQd4HPgP9",
        "outputId": "42f18f0c-fde0-433d-dc69-bb531d60da8d"
      },
      "execution_count": 61,
      "outputs": [
        {
          "output_type": "stream",
          "name": "stdout",
          "text": [
            "[7,15]\n"
          ]
        }
      ]
    },
    {
      "cell_type": "code",
      "source": [
        "v1.dot(v2)"
      ],
      "metadata": {
        "id": "WJOEHEYDPsSe",
        "colab": {
          "base_uri": "https://localhost:8080/"
        },
        "outputId": "17d6c22d-7958-467d-df0d-38430750d39e"
      },
      "execution_count": 62,
      "outputs": [
        {
          "output_type": "execute_result",
          "data": {
            "text/plain": [
              "64"
            ]
          },
          "metadata": {},
          "execution_count": 62
        }
      ]
    },
    {
      "cell_type": "markdown",
      "source": [
        "## s-parse Matrix"
      ],
      "metadata": {
        "id": "oKYCPdef2K8y"
      }
    },
    {
      "cell_type": "code",
      "source": [
        "class Matrix(): # code for s-parse matrix\n",
        "\n",
        "  def __init__(self,dim):\n",
        "      #assuming all values zero\n",
        "\n",
        "      self.row = dim[0]\n",
        "      self.col = dim[1]\n",
        "      self.vals = {} # create dictionary holding non zero value\n",
        "\n",
        "  def setval(self, i , j , val):\n",
        "\n",
        "    if (i< 0 )and (i > self.row) : # check if row not less  than zero and not above the row\n",
        "      raise ValueError(\"Row out of Range\")\n",
        "\n",
        "    if (i<0) and (j> self.col): # check if row not less  than zero and not above the row\n",
        "      raise ValueError(\"Row out of Range\")\n",
        "\n",
        "    self.vals[(i,j)] = val  #it uses as  tuple like (1,2:10) and hold some value\n",
        "\n",
        "\n",
        "  def getval(self, i , j ):\n",
        "    if (i< 0 )and (i > self.row) :\n",
        "      raise ValueError(\"Row out of Range\")\n",
        "\n",
        "    if (i<0) and (j> self.col):\n",
        "      raise ValueError(\"Row out of Range\")\n",
        "\n",
        "    if (i,j)  in self.vals:      # if (i,j) is in vals dictionary other wise it's 0.0\n",
        "      return self.vals[(i,j)]\n",
        "\n",
        "    return 0.0\n",
        "\n",
        ""
      ],
      "metadata": {
        "id": "vUTUkuVL1qcJ"
      },
      "execution_count": 63,
      "outputs": []
    },
    {
      "cell_type": "code",
      "source": [
        "m = Matrix((5,5))"
      ],
      "metadata": {
        "id": "z62Ldvh52bky"
      },
      "execution_count": 64,
      "outputs": []
    },
    {
      "cell_type": "code",
      "source": [
        "print(m.vals)"
      ],
      "metadata": {
        "colab": {
          "base_uri": "https://localhost:8080/"
        },
        "id": "jH-CcBz464WQ",
        "outputId": "ce5b2d88-4343-426a-ccbd-5b2359e9c7f5"
      },
      "execution_count": 65,
      "outputs": [
        {
          "output_type": "stream",
          "name": "stdout",
          "text": [
            "{}\n"
          ]
        }
      ]
    },
    {
      "cell_type": "code",
      "source": [
        "m.setval(2,3,10)"
      ],
      "metadata": {
        "id": "6eVjz2wY65zy"
      },
      "execution_count": 53,
      "outputs": []
    },
    {
      "cell_type": "code",
      "source": [
        "print(m.vals)"
      ],
      "metadata": {
        "colab": {
          "base_uri": "https://localhost:8080/"
        },
        "id": "VT3JmzK98EWp",
        "outputId": "f937ae28-0036-4213-b07c-99f0b9d55205"
      },
      "execution_count": 54,
      "outputs": [
        {
          "output_type": "stream",
          "name": "stdout",
          "text": [
            "{(2, 3): 10}\n"
          ]
        }
      ]
    },
    {
      "cell_type": "code",
      "source": [
        "m.getval(2,3)"
      ],
      "metadata": {
        "colab": {
          "base_uri": "https://localhost:8080/"
        },
        "id": "mzcOQxL_8F4R",
        "outputId": "5e4f998a-27c7-4e9f-bd7f-21b974561f60"
      },
      "execution_count": 55,
      "outputs": [
        {
          "output_type": "execute_result",
          "data": {
            "text/plain": [
              "10"
            ]
          },
          "metadata": {},
          "execution_count": 55
        }
      ]
    },
    {
      "cell_type": "code",
      "source": [],
      "metadata": {
        "id": "FtKdmAnv8tNh"
      },
      "execution_count": null,
      "outputs": []
    }
  ]
}